{
 "cells": [
  {
   "cell_type": "markdown",
   "id": "97139793",
   "metadata": {},
   "source": [
    "Author: Lynn Menchaca\n",
    "\n",
    "Date: 21Nov2022\n",
    "\n",
    "Project: Air Quality Index Prediction\n",
    "    \n",
    "Resources:\n",
    "\n",
    "    - youtube -> Krish Naik -> Live Project Playlist"
   ]
  },
  {
   "cell_type": "markdown",
   "id": "fbeae1bd",
   "metadata": {},
   "source": [
    "Apply ML Algorithms:\n",
    "\n",
    "    - Linear Regression\n",
    "    - Lasso and Ridge Regression\n",
    "    - Decision Tree Regressor\n",
    "    - KNN Regressor\n",
    "    - RandomForestRegressor\n",
    "    - Xgboost Regressor\n",
    "    - Hyperparameter Tuning\n",
    "    - ANN - Artificial Neural Network"
   ]
  },
  {
   "cell_type": "code",
   "execution_count": null,
   "id": "73448707",
   "metadata": {},
   "outputs": [],
   "source": []
  }
 ],
 "metadata": {
  "kernelspec": {
   "display_name": "Python 3 (ipykernel)",
   "language": "python",
   "name": "python3"
  },
  "language_info": {
   "codemirror_mode": {
    "name": "ipython",
    "version": 3
   },
   "file_extension": ".py",
   "mimetype": "text/x-python",
   "name": "python",
   "nbconvert_exporter": "python",
   "pygments_lexer": "ipython3",
   "version": "3.8.13"
  }
 },
 "nbformat": 4,
 "nbformat_minor": 5
}
